{
 "cells": [
  {
   "cell_type": "markdown",
   "id": "5015f591",
   "metadata": {},
   "source": [
    "# Setting Everything Up"
   ]
  },
  {
   "cell_type": "code",
   "execution_count": 2,
   "id": "3283eb8e",
   "metadata": {},
   "outputs": [],
   "source": [
    "import pandas as pd\n",
    "from datetime import datetime"
   ]
  },
  {
   "cell_type": "code",
   "execution_count": 244,
   "id": "0388ff33",
   "metadata": {},
   "outputs": [],
   "source": [
    "#import the file from the web\n",
    "import requests\n",
    "from bs4 import BeautifulSoup\n",
    "import pandas as pd\n",
    "from unicodedata import normalize\n",
    "import re\n",
    "from datetime import datetime\n",
    "from pandas import read_csv \n",
    "from sklearn.feature_extraction.text import CountVectorizer\n",
    "import json\n",
    "from flatten_json import flatten\n",
    "\n",
    "\n",
    "# I can give a number or use None to remove maximum ceiling & display all columns\n",
    "pd.options.display.max_columns = None\n",
    "\n",
    "# # I want to be able to see the entire narrative, so remove the maximum width for each column\n",
    "# pd.options.display.max_colwidth = None\n",
    "\n",
    "# pd.options.display.float_format = '{:,.0f}'.format\n",
    "\n",
    "import string\n",
    "\n",
    "%matplotlib inline"
   ]
  },
  {
   "cell_type": "code",
   "execution_count": 4,
   "id": "42b42014",
   "metadata": {},
   "outputs": [],
   "source": [
    "%load_ext rpy2.ipython\n",
    "%load_ext autoreload\n",
    "%autoreload 2\n",
    "\n",
    "%matplotlib inline  \n",
    "from matplotlib import rcParams\n",
    "rcParams['figure.figsize'] = (8, 8)\n",
    "\n",
    "import warnings\n",
    "from rpy2.rinterface import RRuntimeWarning\n",
    "warnings.filterwarnings(\"ignore\") # Ignore all warnings\n",
    "# warnings.filterwarnings(\"ignore\", category=RRuntimeWarning) # Show some warnings\n",
    "\n",
    "import pandas as pd\n",
    "import numpy as np\n",
    "import matplotlib.pyplot as plt\n",
    "from IPython.display import display, HTML"
   ]
  },
  {
   "cell_type": "code",
   "execution_count": 5,
   "id": "242498c8",
   "metadata": {},
   "outputs": [
    {
     "data": {
      "application/javascript": [
       "// Disable auto-scrolling\n",
       "IPython.OutputArea.prototype._should_scroll = function(lines) {\n",
       "    return false;\n",
       "}\n"
      ],
      "text/plain": [
       "<IPython.core.display.Javascript object>"
      ]
     },
     "metadata": {},
     "output_type": "display_data"
    }
   ],
   "source": [
    "%%javascript\n",
    "// Disable auto-scrolling\n",
    "IPython.OutputArea.prototype._should_scroll = function(lines) {\n",
    "    return false;\n",
    "}"
   ]
  },
  {
   "cell_type": "code",
   "execution_count": 6,
   "id": "739fccf7",
   "metadata": {},
   "outputs": [
    {
     "name": "stderr",
     "output_type": "stream",
     "text": [
      "R[write to console]: Loading required package: tidyverse\n",
      "\n"
     ]
    },
    {
     "name": "stdout",
     "output_type": "stream",
     "text": [
      "── Attaching packages ─────────────────────────────────────── tidyverse 1.3.2 ──\n",
      "✔ ggplot2 3.4.0      ✔ purrr   1.0.1 \n",
      "✔ tibble  3.1.8      ✔ dplyr   1.0.10\n",
      "✔ tidyr   1.3.0      ✔ stringr 1.5.0 \n",
      "✔ readr   2.1.3      ✔ forcats 1.0.0 \n",
      "── Conflicts ────────────────────────────────────────── tidyverse_conflicts() ──\n",
      "✖ dplyr::filter() masks stats::filter()\n",
      "✖ dplyr::lag()    masks stats::lag()\n"
     ]
    }
   ],
   "source": [
    "%%R\n",
    "\n",
    "# My commonly used R imports\n",
    "\n",
    "require('tidyverse')"
   ]
  },
  {
   "cell_type": "code",
   "execution_count": 7,
   "id": "4aa539ec",
   "metadata": {},
   "outputs": [],
   "source": [
    "#To Download PDFs\n",
    "from urllib.parse import urljoin"
   ]
  },
  {
   "cell_type": "code",
   "execution_count": 13,
   "id": "1e57e778",
   "metadata": {},
   "outputs": [],
   "source": [
    "#To import camelot and PDF-related items\n",
    "import camelot\n",
    "import ghostscript\n",
    "import sys"
   ]
  },
  {
   "cell_type": "code",
   "execution_count": 14,
   "id": "079713d7",
   "metadata": {},
   "outputs": [],
   "source": [
    "%%R\n",
    "\n",
    "library(jpeg)\n",
    "library(wordcloud)\n",
    "library(RColorBrewer)\n",
    "library(wordcloud2)\n",
    "library(tm)\n"
   ]
  },
  {
   "cell_type": "code",
   "execution_count": 15,
   "id": "d016e49b",
   "metadata": {},
   "outputs": [],
   "source": [
    "from sklearn.feature_extraction.text import CountVectorizer"
   ]
  },
  {
   "cell_type": "code",
   "execution_count": 16,
   "id": "6da3362c",
   "metadata": {},
   "outputs": [],
   "source": [
    "%%R\n",
    "library(vistime)\n",
    "library(shiny)\n",
    "library(plotly)\n",
    "#for timeline plotting"
   ]
  },
  {
   "cell_type": "code",
   "execution_count": 17,
   "id": "6204946d",
   "metadata": {},
   "outputs": [],
   "source": [
    "from collections import Counter\n"
   ]
  },
  {
   "cell_type": "code",
   "execution_count": null,
   "id": "36c238d6",
   "metadata": {},
   "outputs": [],
   "source": [
    "# "
   ]
  }
 ],
 "metadata": {
  "kernelspec": {
   "display_name": "Python 3 (ipykernel)",
   "language": "python",
   "name": "python3"
  },
  "language_info": {
   "codemirror_mode": {
    "name": "ipython",
    "version": 3
   },
   "file_extension": ".py",
   "mimetype": "text/x-python",
   "name": "python",
   "nbconvert_exporter": "python",
   "pygments_lexer": "ipython3",
   "version": "3.11.0rc2"
  }
 },
 "nbformat": 4,
 "nbformat_minor": 5
}
